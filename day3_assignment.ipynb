{
  "nbformat": 4,
  "nbformat_minor": 0,
  "metadata": {
    "colab": {
      "name": "day3 assignment.ipynb",
      "provenance": [],
      "collapsed_sections": [],
      "authorship_tag": "ABX9TyOIn3BsuuHO0/dOtn3EeVE2",
      "include_colab_link": true
    },
    "kernelspec": {
      "name": "python3",
      "display_name": "Python 3"
    }
  },
  "cells": [
    {
      "cell_type": "markdown",
      "metadata": {
        "id": "view-in-github",
        "colab_type": "text"
      },
      "source": [
        "<a href=\"https://colab.research.google.com/github/indela-prasannakumar/Python-Assignments/blob/master/day3_assignment.ipynb\" target=\"_parent\"><img src=\"https://colab.research.google.com/assets/colab-badge.svg\" alt=\"Open In Colab\"/></a>"
      ]
    },
    {
      "cell_type": "markdown",
      "metadata": {
        "id": "JnRDiK1B8RYE",
        "colab_type": "text"
      },
      "source": [
        "## SUM OF FIRST N NUMBERS"
      ]
    },
    {
      "cell_type": "code",
      "metadata": {
        "id": "Wy9ChYZ88rU-",
        "colab_type": "code",
        "colab": {
          "base_uri": "https://localhost:8080/",
          "height": 51
        },
        "outputId": "9bbb334f-a6fa-41c7-8341-34d0e41b8f71"
      },
      "source": [
        "# sum of first n numbers\n",
        "n=int(input(\"Enter any number:\"))\n",
        "i=1\n",
        "sum=0\n",
        "while i<=n:\n",
        "  sum+=i\n",
        "  i=i+1\n",
        "print(\"sum of first \",n,\" numbers is:\",sum)  "
      ],
      "execution_count": null,
      "outputs": [
        {
          "output_type": "stream",
          "text": [
            "Enter any number:4\n",
            "sum of first  4  numbers is: 10\n"
          ],
          "name": "stdout"
        }
      ]
    },
    {
      "cell_type": "markdown",
      "metadata": {
        "id": "njiUsTZS9uPp",
        "colab_type": "text"
      },
      "source": [
        "## CHECKING WHETHER GIVEN NUMBER IS PRIME OR NOT"
      ]
    },
    {
      "cell_type": "code",
      "metadata": {
        "id": "zV00_Hda96RQ",
        "colab_type": "code",
        "colab": {
          "base_uri": "https://localhost:8080/",
          "height": 51
        },
        "outputId": "299e352f-349e-4ab8-dce7-7801575bf1f9"
      },
      "source": [
        "# checking the number is prime or not\n",
        "n=int(input(\"Enter any number:\"))\n",
        "flag=0\n",
        "for i in range(1,n+1):\n",
        "    if n%i==0:\n",
        "      flag+=1  \n",
        "if flag==2:\n",
        "  print(n,\" is prime number\")\n",
        "else:\n",
        "  print(n,\" is not prime number\")"
      ],
      "execution_count": 11,
      "outputs": [
        {
          "output_type": "stream",
          "text": [
            "Enter any number:2\n",
            "2  is prime number\n"
          ],
          "name": "stdout"
        }
      ]
    }
  ]
}