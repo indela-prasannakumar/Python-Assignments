{
  "nbformat": 4,
  "nbformat_minor": 0,
  "metadata": {
    "colab": {
      "name": "Day1 assignment.ipynb",
      "provenance": [],
      "collapsed_sections": [],
      "authorship_tag": "ABX9TyOtpyjclUMDazrFl3mBgVI9",
      "include_colab_link": true
    },
    "kernelspec": {
      "name": "python3",
      "display_name": "Python 3"
    }
  },
  "cells": [
    {
      "cell_type": "markdown",
      "metadata": {
        "id": "view-in-github",
        "colab_type": "text"
      },
      "source": [
        "<a href=\"https://colab.research.google.com/github/indela-prasannakumar/Python-Assignments/blob/master/Day1_assignment.ipynb\" target=\"_parent\"><img src=\"https://colab.research.google.com/assets/colab-badge.svg\" alt=\"Open In Colab\"/></a>"
      ]
    },
    {
      "cell_type": "markdown",
      "metadata": {
        "id": "Y4hg1edhz0AR",
        "colab_type": "text"
      },
      "source": [
        "## WHAT IS PYTHON? "
      ]
    },
    {
      "cell_type": "markdown",
      "metadata": {
        "id": "29s3gR2uz-km",
        "colab_type": "text"
      },
      "source": [
        "Python is an interpreted, object-oriented, high-level programming language with dynamic semantics. Its high-level built in data structures, combined with dynamic typing and dynamic binding, make it very attractive for Rapid Application Development, as well as for use as a scripting or glue language to connect existing components together. Python's simple, easy to learn syntax emphasizes readability and therefore reduces the cost of program maintenance. Python supports modules and packages, which encourages program modularity and code reuse. The Python interpreter and the extensive standard library are available in source or binary form without charge for all major platforms, and can be freely distributed."
      ]
    },
    {
      "cell_type": "markdown",
      "metadata": {
        "id": "c3KkGgMM0LVZ",
        "colab_type": "text"
      },
      "source": [
        "## WHAT ARE THE WAYS TO INSTAL PYTHON?"
      ]
    },
    {
      "cell_type": "markdown",
      "metadata": {
        "id": "ttjtEts20VpP",
        "colab_type": "text"
      },
      "source": [
        "To get started working with Python 3, you’ll need to have access to the Python interpreter. There are several common ways to accomplish this:\n",
        "\n",
        "Python can be obtained from the Python Software Foundation website at python.org. Typically, that involves downloading the appropriate installer for your operating system and running it on your machine.\n",
        "Some operating systems, notably Linux, provide a package manager that can be run to install Python.\n",
        "On macOS, the best way to install Python 3 involves installing a package manager called Homebrew. You’ll see how to do this in the relevant section in the tutorial.\n",
        "On mobile operating systems like Android and iOS, you can install apps that provide a Python programming environment. This can be a great way to practice your coding skills on the go."
      ]
    },
    {
      "cell_type": "markdown",
      "metadata": {
        "id": "OdKZTdCs0nas",
        "colab_type": "text"
      },
      "source": [
        "## WHAT ARE CODING ENVIRONMENTS? TYPES?"
      ]
    },
    {
      "cell_type": "markdown",
      "metadata": {
        "id": "H0cNh9IX01ts",
        "colab_type": "text"
      },
      "source": [
        "Similarly, you will need the following setup to start with programming using any programming language.\n",
        "\n",
        "A text editor to create computer programs.\n",
        "A compiler to compile the programs into binary format.\n",
        "An interpreter to execute the programs directly.\n",
        "In case you don’t have sufficient exposure to computers, you will not be able to set up either of these software. So, we suggest you take the help from any technical person around you to set up the programming environment on your machine from where you can start. But for you, it is important to understand what these items are."
      ]
    },
    {
      "cell_type": "markdown",
      "metadata": {
        "id": "v9ICP5eV1KTO",
        "colab_type": "text"
      },
      "source": [
        "Text Editor\n",
        "A text editor is a software that is used to write computer programs. Your Windows machine must have a Notepad, which can be used to type programs."
      ]
    },
    {
      "cell_type": "markdown",
      "metadata": {
        "id": "A3TfKCBI1TJ7",
        "colab_type": "text"
      },
      "source": [
        "Compiler\n",
        "The conversion from text program to binary file is done by another software called Compiler and this process of conversion from text formatted program to binary format file is called program compilation. Finally, you can execute binary file to perform the programmed task."
      ]
    },
    {
      "cell_type": "markdown",
      "metadata": {
        "id": "_YZBxMAE1gsm",
        "colab_type": "text"
      },
      "source": [
        "Interpreter\n",
        "There are other programming languages such as Python, PHP, and Perl, which do not need any compilation into binary format, rather an interpreter can be used to read such programs line by line and execute them directly without any further conversion."
      ]
    },
    {
      "cell_type": "markdown",
      "metadata": {
        "id": "0eI7PLyR1rEA",
        "colab_type": "text"
      },
      "source": [
        ""
      ]
    }
  ]
}