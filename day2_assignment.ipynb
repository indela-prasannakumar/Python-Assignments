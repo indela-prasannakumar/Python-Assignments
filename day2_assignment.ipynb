{
  "nbformat": 4,
  "nbformat_minor": 0,
  "metadata": {
    "colab": {
      "name": "day2 assignment.ipynb",
      "provenance": [],
      "collapsed_sections": [],
      "authorship_tag": "ABX9TyP+PxaQqQ4lOSs1BFtm8xYa",
      "include_colab_link": true
    },
    "kernelspec": {
      "name": "python3",
      "display_name": "Python 3"
    }
  },
  "cells": [
    {
      "cell_type": "markdown",
      "metadata": {
        "id": "view-in-github",
        "colab_type": "text"
      },
      "source": [
        "<a href=\"https://colab.research.google.com/github/indela-prasannakumar/Python-Assignments/blob/master/day2_assignment.ipynb\" target=\"_parent\"><img src=\"https://colab.research.google.com/assets/colab-badge.svg\" alt=\"Open In Colab\"/></a>"
      ]
    },
    {
      "cell_type": "markdown",
      "metadata": {
        "id": "gdR8Z_j1yr0y",
        "colab_type": "text"
      },
      "source": [
        "## BACKSLASH"
      ]
    },
    {
      "cell_type": "markdown",
      "metadata": {
        "id": "djIkwVZHzNYt",
        "colab_type": "text"
      },
      "source": [
        "when ever you want to print \" or ' in a string then we use backslash "
      ]
    },
    {
      "cell_type": "code",
      "metadata": {
        "id": "8LDzzj_Hyxw5",
        "colab_type": "code",
        "colab": {
          "base_uri": "https://localhost:8080/",
          "height": 34
        },
        "outputId": "01d469e0-1bc5-426f-bd8f-4c4323485623"
      },
      "source": [
        "print(\"prasanna\\\"kumar\")"
      ],
      "execution_count": 1,
      "outputs": [
        {
          "output_type": "stream",
          "text": [
            "prasanna\"kumar\n"
          ],
          "name": "stdout"
        }
      ]
    },
    {
      "cell_type": "code",
      "metadata": {
        "id": "fh-uN6l0zqAU",
        "colab_type": "code",
        "colab": {
          "base_uri": "https://localhost:8080/",
          "height": 34
        },
        "outputId": "a9c98ae7-685c-40b4-ec9b-9a7b099a9df1"
      },
      "source": [
        "print('prasanna\\'kumar')"
      ],
      "execution_count": 2,
      "outputs": [
        {
          "output_type": "stream",
          "text": [
            "prasanna'kumar\n"
          ],
          "name": "stdout"
        }
      ]
    },
    {
      "cell_type": "markdown",
      "metadata": {
        "id": "1lZvs1eVz4Yw",
        "colab_type": "text"
      },
      "source": [
        "this is used for escape sequences"
      ]
    },
    {
      "cell_type": "code",
      "metadata": {
        "id": "B0lcxbtVz2SJ",
        "colab_type": "code",
        "colab": {
          "base_uri": "https://localhost:8080/",
          "height": 51
        },
        "outputId": "5d7bc22f-f15d-404d-c5a9-822b45271a5c"
      },
      "source": [
        "print(\"prasanna\\nkuumar\")"
      ],
      "execution_count": 3,
      "outputs": [
        {
          "output_type": "stream",
          "text": [
            "prasanna\n",
            "kuumar\n"
          ],
          "name": "stdout"
        }
      ]
    },
    {
      "cell_type": "code",
      "metadata": {
        "id": "5MjcMwBS0CBR",
        "colab_type": "code",
        "colab": {
          "base_uri": "https://localhost:8080/",
          "height": 34
        },
        "outputId": "4367739e-121b-44e5-88c1-599bd470d885"
      },
      "source": [
        "print(\"prasanna\\akumar\")"
      ],
      "execution_count": 4,
      "outputs": [
        {
          "output_type": "stream",
          "text": [
            "prasanna\u0007kumar\n"
          ],
          "name": "stdout"
        }
      ]
    },
    {
      "cell_type": "markdown",
      "metadata": {
        "id": "8R6H5m6c0pW3",
        "colab_type": "text"
      },
      "source": [
        "## tiple cotes"
      ]
    },
    {
      "cell_type": "markdown",
      "metadata": {
        "id": "h21PaDMU0wiz",
        "colab_type": "text"
      },
      "source": [
        "this is used to print multilines in print()"
      ]
    },
    {
      "cell_type": "code",
      "metadata": {
        "id": "9ULcEgLG05Wl",
        "colab_type": "code",
        "colab": {
          "base_uri": "https://localhost:8080/",
          "height": 85
        },
        "outputId": "ffe38967-46e5-4921-d64f-8b267ff16b29"
      },
      "source": [
        "print(\"\"\"\n",
        "    prasanna\n",
        "    kumar\n",
        "    \"\"\")"
      ],
      "execution_count": 6,
      "outputs": [
        {
          "output_type": "stream",
          "text": [
            "\n",
            "    prasanna\n",
            "    kumar\n",
            "    \n"
          ],
          "name": "stdout"
        }
      ]
    },
    {
      "cell_type": "code",
      "metadata": {
        "id": "42INsuVJ1AuT",
        "colab_type": "code",
        "colab": {
          "base_uri": "https://localhost:8080/",
          "height": 85
        },
        "outputId": "447d8fc4-7d62-420b-dcfd-4adc0c67504d"
      },
      "source": [
        "print('''\n",
        "    prasanna\n",
        "    kumar\n",
        "    ''')"
      ],
      "execution_count": 7,
      "outputs": [
        {
          "output_type": "stream",
          "text": [
            "\n",
            "    prasanna\n",
            "    kumar\n",
            "    \n"
          ],
          "name": "stdout"
        }
      ]
    },
    {
      "cell_type": "markdown",
      "metadata": {
        "id": "0HeL8UzK1a4A",
        "colab_type": "text"
      },
      "source": [
        "## FORMATTED OUTPUT"
      ]
    },
    {
      "cell_type": "code",
      "metadata": {
        "id": "WprJUK3i1e2U",
        "colab_type": "code",
        "colab": {
          "base_uri": "https://localhost:8080/",
          "height": 34
        },
        "outputId": "fc61c5e2-001d-4ffb-b872-f263cafdc361"
      },
      "source": [
        "name=\"prasanna\"\n",
        "marks=98\n",
        "age=20\n",
        "print(\"The name is \",name,\"The marks are \",marks,\"The age is \",age)"
      ],
      "execution_count": 8,
      "outputs": [
        {
          "output_type": "stream",
          "text": [
            "The name is  prasanna The marks are  98 The age is  20\n"
          ],
          "name": "stdout"
        }
      ]
    },
    {
      "cell_type": "code",
      "metadata": {
        "id": "AWyeaYIP2A_T",
        "colab_type": "code",
        "colab": {
          "base_uri": "https://localhost:8080/",
          "height": 68
        },
        "outputId": "29bee747-ad5e-45ac-f1b9-2da6a267c8b2"
      },
      "source": [
        "print(\"The name is %s \\n The marks are %d \\n The age is %d\"%(name,marks,age))"
      ],
      "execution_count": 9,
      "outputs": [
        {
          "output_type": "stream",
          "text": [
            "The name is prasanna \n",
            " The marks are 98 \n",
            " The age is 20\n"
          ],
          "name": "stdout"
        }
      ]
    },
    {
      "cell_type": "markdown",
      "metadata": {
        "id": "zYpTCpmU2bmw",
        "colab_type": "text"
      },
      "source": [
        "## VARIABLE ASSIGNMENT"
      ]
    },
    {
      "cell_type": "code",
      "metadata": {
        "id": "yaEDRgm62g21",
        "colab_type": "code",
        "colab": {
          "base_uri": "https://localhost:8080/",
          "height": 34
        },
        "outputId": "58a8b3f7-75fd-4a36-b9a3-1d07b84c7555"
      },
      "source": [
        "x=1\n",
        "y=2\n",
        "z=x+y\n",
        "print(z)"
      ],
      "execution_count": 10,
      "outputs": [
        {
          "output_type": "stream",
          "text": [
            "3\n"
          ],
          "name": "stdout"
        }
      ]
    },
    {
      "cell_type": "code",
      "metadata": {
        "id": "RsUJ7ME72uNn",
        "colab_type": "code",
        "colab": {
          "base_uri": "https://localhost:8080/",
          "height": 68
        },
        "outputId": "c125522b-9ff4-4512-f867-1d7811230fa0"
      },
      "source": [
        "x=1\n",
        "y=1\n",
        "print(id(x))\n",
        "print(id(y))\n",
        "print(id(1))"
      ],
      "execution_count": 11,
      "outputs": [
        {
          "output_type": "stream",
          "text": [
            "10914496\n",
            "10914496\n",
            "10914496\n"
          ],
          "name": "stdout"
        }
      ]
    },
    {
      "cell_type": "markdown",
      "metadata": {
        "id": "H3qxCA1Z3JXM",
        "colab_type": "text"
      },
      "source": [
        "## OPERATORS"
      ]
    },
    {
      "cell_type": "markdown",
      "metadata": {
        "id": "PcWZnxli3Npw",
        "colab_type": "text"
      },
      "source": [
        "1.Arithematic operators"
      ]
    },
    {
      "cell_type": "code",
      "metadata": {
        "id": "5zvf4GEV3Uid",
        "colab_type": "code",
        "colab": {
          "base_uri": "https://localhost:8080/",
          "height": 34
        },
        "outputId": "b3469376-cb70-424c-87b6-df47a4cdcf36"
      },
      "source": [
        "a=7\n",
        "b=5\n",
        "print(a+b)"
      ],
      "execution_count": 12,
      "outputs": [
        {
          "output_type": "stream",
          "text": [
            "12\n"
          ],
          "name": "stdout"
        }
      ]
    },
    {
      "cell_type": "code",
      "metadata": {
        "id": "joiNLmWi3mBe",
        "colab_type": "code",
        "colab": {
          "base_uri": "https://localhost:8080/",
          "height": 119
        },
        "outputId": "140c6fb5-8bdf-4818-d066-1ff4160de416"
      },
      "source": [
        "print(a-b)\n",
        "print(a*b)\n",
        "print(a/b)\n",
        "print(a//b)\n",
        "print(a%b)\n",
        "print(a**b)"
      ],
      "execution_count": 13,
      "outputs": [
        {
          "output_type": "stream",
          "text": [
            "2\n",
            "35\n",
            "1.4\n",
            "1\n",
            "2\n",
            "16807\n"
          ],
          "name": "stdout"
        }
      ]
    },
    {
      "cell_type": "markdown",
      "metadata": {
        "id": "y1UkOBaM367o",
        "colab_type": "text"
      },
      "source": [
        "2.Relational operators"
      ]
    },
    {
      "cell_type": "code",
      "metadata": {
        "id": "rbiMQkmH3_J4",
        "colab_type": "code",
        "colab": {}
      },
      "source": [
        "a=13\n",
        "b=33"
      ],
      "execution_count": 14,
      "outputs": []
    },
    {
      "cell_type": "code",
      "metadata": {
        "id": "qrSJjg1C4Pbz",
        "colab_type": "code",
        "colab": {
          "base_uri": "https://localhost:8080/",
          "height": 119
        },
        "outputId": "d5d739fe-22c2-4409-83f3-f0101d930497"
      },
      "source": [
        "print(a>b)\n",
        "print(a<b)\n",
        "print(a>=b)\n",
        "print(a<=b)\n",
        "print(a==b)\n",
        "print(a!=b)"
      ],
      "execution_count": 15,
      "outputs": [
        {
          "output_type": "stream",
          "text": [
            "False\n",
            "True\n",
            "False\n",
            "True\n",
            "False\n",
            "True\n"
          ],
          "name": "stdout"
        }
      ]
    },
    {
      "cell_type": "markdown",
      "metadata": {
        "id": "0HPDJ-ou4pH_",
        "colab_type": "text"
      },
      "source": [
        "3.Logical operators"
      ]
    },
    {
      "cell_type": "code",
      "metadata": {
        "id": "UiRCvu7w4veo",
        "colab_type": "code",
        "colab": {}
      },
      "source": [
        "a=1\n",
        "b=0"
      ],
      "execution_count": 17,
      "outputs": []
    },
    {
      "cell_type": "code",
      "metadata": {
        "id": "xIl2sPHx41Bt",
        "colab_type": "code",
        "colab": {
          "base_uri": "https://localhost:8080/",
          "height": 68
        },
        "outputId": "403bee5b-3a39-4c58-e342-e0fd4b43c28a"
      },
      "source": [
        "print(a and b)\n",
        "print(a or b)\n",
        "print(not a)"
      ],
      "execution_count": 18,
      "outputs": [
        {
          "output_type": "stream",
          "text": [
            "0\n",
            "1\n",
            "False\n"
          ],
          "name": "stdout"
        }
      ]
    },
    {
      "cell_type": "markdown",
      "metadata": {
        "id": "yCxNprpc5VFa",
        "colab_type": "text"
      },
      "source": [
        "4.Bit wise operators"
      ]
    },
    {
      "cell_type": "code",
      "metadata": {
        "id": "pqSlxoti5Y2q",
        "colab_type": "code",
        "colab": {}
      },
      "source": [
        "a=10\n",
        "b=4"
      ],
      "execution_count": 19,
      "outputs": []
    },
    {
      "cell_type": "code",
      "metadata": {
        "id": "K0-zw8s75bRV",
        "colab_type": "code",
        "colab": {
          "base_uri": "https://localhost:8080/",
          "height": 85
        },
        "outputId": "68e74f0d-0b9e-425f-dfd4-5ab833bf4467"
      },
      "source": [
        "print(a&b)\n",
        "print(a|b)\n",
        "print(~a)\n",
        "print(a^b)"
      ],
      "execution_count": 20,
      "outputs": [
        {
          "output_type": "stream",
          "text": [
            "0\n",
            "14\n",
            "-11\n",
            "14\n"
          ],
          "name": "stdout"
        }
      ]
    },
    {
      "cell_type": "markdown",
      "metadata": {
        "id": "fv-SMo625rFw",
        "colab_type": "text"
      },
      "source": [
        "5.Assignment operators"
      ]
    },
    {
      "cell_type": "code",
      "metadata": {
        "id": "rtOCbK415uRQ",
        "colab_type": "code",
        "colab": {
          "base_uri": "https://localhost:8080/",
          "height": 34
        },
        "outputId": "bde60642-9fbc-48be-8484-6b538d0c0fc0"
      },
      "source": [
        "a=12\n",
        "\n",
        "print(a)"
      ],
      "execution_count": 21,
      "outputs": [
        {
          "output_type": "stream",
          "text": [
            "12\n"
          ],
          "name": "stdout"
        }
      ]
    },
    {
      "cell_type": "markdown",
      "metadata": {
        "id": "Efqai9-h5z9I",
        "colab_type": "text"
      },
      "source": [
        "6.Identity operators"
      ]
    },
    {
      "cell_type": "code",
      "metadata": {
        "id": "eI7Y9DmC54zO",
        "colab_type": "code",
        "colab": {
          "base_uri": "https://localhost:8080/",
          "height": 51
        },
        "outputId": "591cfa2d-0dc0-4fea-e25e-d48ec0842b6a"
      },
      "source": [
        "a1=3\n",
        "b1=4\n",
        "print(a1 is b1)\n",
        "print(a1 is not b1)"
      ],
      "execution_count": 22,
      "outputs": [
        {
          "output_type": "stream",
          "text": [
            "False\n",
            "True\n"
          ],
          "name": "stdout"
        }
      ]
    },
    {
      "cell_type": "markdown",
      "metadata": {
        "id": "Ruh2in8j6JS5",
        "colab_type": "text"
      },
      "source": [
        "7.Membership operators"
      ]
    },
    {
      "cell_type": "code",
      "metadata": {
        "id": "PujrdLtv6N-b",
        "colab_type": "code",
        "colab": {
          "base_uri": "https://localhost:8080/",
          "height": 51
        },
        "outputId": "a38a5af6-f6b8-4b9e-cd5f-90c4ed487b21"
      },
      "source": [
        "x=[1,2,3,4]\n",
        "y={1,3,4,6,'e'}\n",
        "print(1 in x)\n",
        "print('e' not in y)"
      ],
      "execution_count": 23,
      "outputs": [
        {
          "output_type": "stream",
          "text": [
            "True\n",
            "False\n"
          ],
          "name": "stdout"
        }
      ]
    }
  ]
}