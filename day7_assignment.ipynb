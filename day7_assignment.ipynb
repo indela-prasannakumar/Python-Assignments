{
  "nbformat": 4,
  "nbformat_minor": 0,
  "metadata": {
    "colab": {
      "name": "day7 assignment.ipynb",
      "provenance": [],
      "collapsed_sections": [],
      "authorship_tag": "ABX9TyP4kRRtIwhw1dMJvJc8t+lI",
      "include_colab_link": true
    },
    "kernelspec": {
      "name": "python3",
      "display_name": "Python 3"
    }
  },
  "cells": [
    {
      "cell_type": "markdown",
      "metadata": {
        "id": "view-in-github",
        "colab_type": "text"
      },
      "source": [
        "<a href=\"https://colab.research.google.com/github/indela-prasannakumar/Python-Assignments/blob/master/day7_assignment.ipynb\" target=\"_parent\"><img src=\"https://colab.research.google.com/assets/colab-badge.svg\" alt=\"Open In Colab\"/></a>"
      ]
    },
    {
      "cell_type": "markdown",
      "metadata": {
        "id": "m9lcL53vNsKO",
        "colab_type": "text"
      },
      "source": [
        "1.  Use the dictionary, port1 = {21: \"FTP\", 22:\"SSH\", 23: \"telnet\", 80: \"http\"}, and make a new dictionary in which keys become values and values become keys, as shown: Port2 = {“FTP\":21, \"SSH\":22, “telnet\":23,\n",
        "\"http\": 80}\n"
      ]
    },
    {
      "cell_type": "code",
      "metadata": {
        "id": "E_zCHFR5NtWS",
        "colab_type": "code",
        "colab": {
          "base_uri": "https://localhost:8080/",
          "height": 34
        },
        "outputId": "c030bdc5-5427-473a-c941-7d0e29c15207"
      },
      "source": [
        "port1 = {21: \"FTP\", 22:\"SSH\", 23: \"telnet\", 80: \"http\"}\n",
        "port2={port1[i]:i for i in port1}\n",
        "print(port2)"
      ],
      "execution_count": 2,
      "outputs": [
        {
          "output_type": "stream",
          "text": [
            "{'FTP': 21, 'SSH': 22, 'telnet': 23, 'http': 80}\n"
          ],
          "name": "stdout"
        }
      ]
    },
    {
      "cell_type": "markdown",
      "metadata": {
        "id": "VKXYM1oaOdWG",
        "colab_type": "text"
      },
      "source": [
        "2. Take a list of tuple as shown below.\n",
        "[(1,2), (3,4), (5,6),(4,5)]\n",
        "Make a new list which contains sum of number of tuples. \n",
        "For example \n",
        "Input \n",
        "[(1,2), (3,4), (5,6)]\n",
        "Out put \n",
        "[3, 7, 11]"
      ]
    },
    {
      "cell_type": "code",
      "metadata": {
        "id": "FQ5RrJz4Ootw",
        "colab_type": "code",
        "colab": {
          "base_uri": "https://localhost:8080/",
          "height": 34
        },
        "outputId": "36a0a5d0-dfef-42a9-bf6a-2019b975adb1"
      },
      "source": [
        "list1=[(1,2),(3,4),(5,6),(4,5)]\n",
        "list2=list([i[0]+i[1] for i in list1])\n",
        "print(list2)"
      ],
      "execution_count": 6,
      "outputs": [
        {
          "output_type": "stream",
          "text": [
            "[3, 7, 11, 9]\n"
          ],
          "name": "stdout"
        }
      ]
    },
    {
      "cell_type": "code",
      "metadata": {
        "id": "AIpWARo-QV5v",
        "colab_type": "code",
        "colab": {
          "base_uri": "https://localhost:8080/",
          "height": 34
        },
        "outputId": "2b76984b-2eef-432a-d03d-0f1a28f6f43c"
      },
      "source": [
        "def sum(a):\n",
        "  s=0\n",
        "  for i in a:\n",
        "    s+=i \n",
        "  return s  \n",
        "list1=[(1,2),(3,4),(5,6,3),(1,24,5)]\n",
        "list2=[sum(i) for i in list1]\n",
        "print(list2)"
      ],
      "execution_count": 12,
      "outputs": [
        {
          "output_type": "stream",
          "text": [
            "[3, 7, 14, 30]\n"
          ],
          "name": "stdout"
        }
      ]
    },
    {
      "cell_type": "markdown",
      "metadata": {
        "id": "CeHdFO2OPSm7",
        "colab_type": "text"
      },
      "source": [
        "3. Take a list as shown below \n",
        "[(1,2,3), [1,2], ['a','hit','less']]\n",
        "The List contains tuple and lists. Make the elements of inner lists and tuples to outer list"
      ]
    },
    {
      "cell_type": "code",
      "metadata": {
        "id": "dzl-daJpPh2F",
        "colab_type": "code",
        "colab": {
          "base_uri": "https://localhost:8080/",
          "height": 34
        },
        "outputId": "84ffce54-456f-4b56-b62a-6177b1721e71"
      },
      "source": [
        "list1= [(1,2,3), [1,2], ['a','hit','less']] \n",
        "list1=[j for i in list1 for  j in i]\n",
        "print(list2)"
      ],
      "execution_count": 20,
      "outputs": [
        {
          "output_type": "stream",
          "text": [
            "[1, 2, 3, 1, 2, 'a', 'hit', 'less']\n"
          ],
          "name": "stdout"
        }
      ]
    }
  ]
}