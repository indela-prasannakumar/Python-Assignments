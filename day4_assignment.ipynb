{
  "nbformat": 4,
  "nbformat_minor": 0,
  "metadata": {
    "colab": {
      "name": "day4  assignment.ipynb",
      "provenance": [],
      "collapsed_sections": [],
      "authorship_tag": "ABX9TyMs6CoNqwPoSyht045NqQ/F",
      "include_colab_link": true
    },
    "kernelspec": {
      "name": "python3",
      "display_name": "Python 3"
    }
  },
  "cells": [
    {
      "cell_type": "markdown",
      "metadata": {
        "id": "view-in-github",
        "colab_type": "text"
      },
      "source": [
        "<a href=\"https://colab.research.google.com/github/indela-prasannakumar/Python-Assignments/blob/master/day4_assignment.ipynb\" target=\"_parent\"><img src=\"https://colab.research.google.com/assets/colab-badge.svg\" alt=\"Open In Colab\"/></a>"
      ]
    },
    {
      "cell_type": "markdown",
      "metadata": {
        "id": "z_g6E-Y4EU80",
        "colab_type": "text"
      },
      "source": [
        "## islower() method for strings"
      ]
    },
    {
      "cell_type": "code",
      "metadata": {
        "id": "Yx0SdKnnDe-O",
        "colab_type": "code",
        "colab": {
          "base_uri": "https://localhost:8080/",
          "height": 34
        },
        "outputId": "ac941139-4e07-474b-de24-c933a0f72ba9"
      },
      "source": [
        "str1=\"prasanna kumar\"\n",
        "str1.islower()"
      ],
      "execution_count": 1,
      "outputs": [
        {
          "output_type": "execute_result",
          "data": {
            "text/plain": [
              "True"
            ]
          },
          "metadata": {
            "tags": []
          },
          "execution_count": 1
        }
      ]
    },
    {
      "cell_type": "code",
      "metadata": {
        "id": "mkxUuCeED6cD",
        "colab_type": "code",
        "colab": {
          "base_uri": "https://localhost:8080/",
          "height": 34
        },
        "outputId": "98c35ef1-d113-49d8-94d7-981407f36263"
      },
      "source": [
        "str1=\"Prasanna\"\n",
        "str1.islower()"
      ],
      "execution_count": 2,
      "outputs": [
        {
          "output_type": "execute_result",
          "data": {
            "text/plain": [
              "False"
            ]
          },
          "metadata": {
            "tags": []
          },
          "execution_count": 2
        }
      ]
    },
    {
      "cell_type": "markdown",
      "metadata": {
        "id": "Oad8V1GbEn1-",
        "colab_type": "text"
      },
      "source": [
        "## isupper() method for strings"
      ]
    },
    {
      "cell_type": "code",
      "metadata": {
        "id": "BAvjT5djEBJB",
        "colab_type": "code",
        "colab": {
          "base_uri": "https://localhost:8080/",
          "height": 34
        },
        "outputId": "c7207731-a4d3-4a21-b884-3843ea146ebf"
      },
      "source": [
        "str1=\"Prasanna\"\n",
        "str1.isupper()"
      ],
      "execution_count": 5,
      "outputs": [
        {
          "output_type": "execute_result",
          "data": {
            "text/plain": [
              "False"
            ]
          },
          "metadata": {
            "tags": []
          },
          "execution_count": 5
        }
      ]
    },
    {
      "cell_type": "code",
      "metadata": {
        "id": "_CWTuIlJEHXd",
        "colab_type": "code",
        "colab": {
          "base_uri": "https://localhost:8080/",
          "height": 34
        },
        "outputId": "1090870e-a032-4e70-fff5-50e6409833b0"
      },
      "source": [
        "str1=\"PRASANNA\"\n",
        "str1.isupper()"
      ],
      "execution_count": 4,
      "outputs": [
        {
          "output_type": "execute_result",
          "data": {
            "text/plain": [
              "True"
            ]
          },
          "metadata": {
            "tags": []
          },
          "execution_count": 4
        }
      ]
    },
    {
      "cell_type": "markdown",
      "metadata": {
        "id": "3MWmGo0zEy1q",
        "colab_type": "text"
      },
      "source": [
        "## program to print all the occurances of substring in main string "
      ]
    },
    {
      "cell_type": "code",
      "metadata": {
        "id": "E9bY4kXtE6WF",
        "colab_type": "code",
        "colab": {
          "base_uri": "https://localhost:8080/",
          "height": 102
        },
        "outputId": "b3559632-fd28-4c80-81c4-59dd5ffd8e47"
      },
      "source": [
        "str1=input(\"Enter any string:\")\n",
        "sub=input(\"Enter the sub string:\")\n",
        "l1=len(str1)\n",
        "l2=len(sub)\n",
        "for i in range(0,l1):\n",
        "  if sub==str1[i:i+l2]:\n",
        "    print(i)\n",
        "    "
      ],
      "execution_count": 7,
      "outputs": [
        {
          "output_type": "stream",
          "text": [
            "Enter any string:we are here and we will do that and we are happy\n",
            "Enter the sub string:we\n",
            "0\n",
            "16\n",
            "36\n"
          ],
          "name": "stdout"
        }
      ]
    }
  ]
}