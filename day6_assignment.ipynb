{
  "nbformat": 4,
  "nbformat_minor": 0,
  "metadata": {
    "colab": {
      "name": "day6 assignment.ipynb",
      "provenance": [],
      "collapsed_sections": [],
      "authorship_tag": "ABX9TyP4o7y+kH01hsczXeQ6C/Ej",
      "include_colab_link": true
    },
    "kernelspec": {
      "name": "python3",
      "display_name": "Python 3"
    }
  },
  "cells": [
    {
      "cell_type": "markdown",
      "metadata": {
        "id": "view-in-github",
        "colab_type": "text"
      },
      "source": [
        "<a href=\"https://colab.research.google.com/github/indela-prasannakumar/Python-Assignments/blob/master/day6_assignment.ipynb\" target=\"_parent\"><img src=\"https://colab.research.google.com/assets/colab-badge.svg\" alt=\"Open In Colab\"/></a>"
      ]
    },
    {
      "cell_type": "markdown",
      "metadata": {
        "id": "C44Z3GkVNixY",
        "colab_type": "text"
      },
      "source": [
        "list1=[1,2,3,4,5,7,8]"
      ]
    },
    {
      "cell_type": "markdown",
      "metadata": {
        "id": "vU4py4l1NvOL",
        "colab_type": "text"
      },
      "source": [
        "list2=[\"a\",\"b\",\"c\",\"d\",\"e\"]"
      ]
    },
    {
      "cell_type": "markdown",
      "metadata": {
        "id": "YXE5I60aN4an",
        "colab_type": "text"
      },
      "source": [
        "convert above two lists into dictionary without using zip() method\n",
        "(using list comprehension method)"
      ]
    },
    {
      "cell_type": "code",
      "metadata": {
        "id": "qDNgaa0XOEPo",
        "colab_type": "code",
        "colab": {
          "base_uri": "https://localhost:8080/",
          "height": 34
        },
        "outputId": "ebed2edf-67ed-45e7-f34d-38dde018e3c4"
      },
      "source": [
        "list1=[1,2,3,4,5,7,8]\n",
        "list2=[\"a\",\"b\",\"c\",\"d\",\"e\"]\n",
        "dic=dict(list([(list1[i],list2[i]) for i in range(min(len(list1),len(list2)) )]))\n",
        "print(dic)"
      ],
      "execution_count": 2,
      "outputs": [
        {
          "output_type": "stream",
          "text": [
            "{1: 'a', 2: 'b', 3: 'c', 4: 'd', 5: 'e'}\n"
          ],
          "name": "stdout"
        }
      ]
    }
  ]
}