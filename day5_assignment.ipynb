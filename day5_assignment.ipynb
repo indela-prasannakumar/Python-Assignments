{
  "nbformat": 4,
  "nbformat_minor": 0,
  "metadata": {
    "colab": {
      "name": "day5 assignment.ipynb",
      "provenance": [],
      "collapsed_sections": [],
      "authorship_tag": "ABX9TyMrk4gCHgWa9cSyKSTeJ3ka",
      "include_colab_link": true
    },
    "kernelspec": {
      "name": "python3",
      "display_name": "Python 3"
    }
  },
  "cells": [
    {
      "cell_type": "markdown",
      "metadata": {
        "id": "view-in-github",
        "colab_type": "text"
      },
      "source": [
        "<a href=\"https://colab.research.google.com/github/indela-prasannakumar/Python-Assignments/blob/master/day5_assignment.ipynb\" target=\"_parent\"><img src=\"https://colab.research.google.com/assets/colab-badge.svg\" alt=\"Open In Colab\"/></a>"
      ]
    },
    {
      "cell_type": "markdown",
      "metadata": {
        "id": "_shXDmKV1ebO",
        "colab_type": "text"
      },
      "source": [
        "[0,1,4,10,2,1,0,56,2,0,1,3,0,56,0,4]\n",
        "sort in ascending order but all zeroes should be in right hand side"
      ]
    },
    {
      "cell_type": "code",
      "metadata": {
        "id": "hGWsmr3L17b5",
        "colab_type": "code",
        "colab": {
          "base_uri": "https://localhost:8080/",
          "height": 51
        },
        "outputId": "0021077f-da7f-4b55-d211-721aa3eab11d"
      },
      "source": [
        "def fun(lst):\n",
        "  l=len(lst)\n",
        "  c=lst.count(0)\n",
        "  j=0\n",
        "  while j<l-1:\n",
        "    if lst[j]>lst[j+1]:\n",
        "      lst[j],lst[j+1]=lst[j+1],lst[j]\n",
        "      j=-1\n",
        "    j+=1  \n",
        "  for j in range(c,l):\n",
        "    lst[j-c]=lst[j]\n",
        "  for j in range(l-c,l):\n",
        "    lst[j]=0  \n",
        "  return lst\n",
        "lst=[0,1,4,10,2,1,0,56,2,0,1,3,0,56,0,4]\n",
        "print(\"List before sorting:\",lst)\n",
        "lst=fun(lst)  \n",
        "print(\"List after sorting:\",lst) "
      ],
      "execution_count": 24,
      "outputs": [
        {
          "output_type": "stream",
          "text": [
            "List before sorting: [0, 1, 4, 10, 2, 1, 0, 56, 2, 0, 1, 3, 0, 56, 0, 4]\n",
            "List after sorting: [1, 1, 1, 2, 2, 3, 4, 4, 10, 56, 56, 0, 0, 0, 0, 0]\n"
          ],
          "name": "stdout"
        }
      ]
    },
    {
      "cell_type": "markdown",
      "metadata": {
        "id": "4xH9GZwLUXrv",
        "colab_type": "text"
      },
      "source": [
        "lst1=[10,20,40,60,70,80]  sorted list\n",
        "lst2=[5,15,25,35,45,60]   sorted list\n",
        "Merge these two sorted lists to produce one sorted list, but use only one loop"
      ]
    },
    {
      "cell_type": "code",
      "metadata": {
        "id": "EB5qP7hPVWJR",
        "colab_type": "code",
        "colab": {
          "base_uri": "https://localhost:8080/",
          "height": 51
        },
        "outputId": "8dfdcf9e-5f35-490c-fa26-67c24a85670f"
      },
      "source": [
        "lst1=[10,20,40,60,70,80]\n",
        "lst2=[5,15,25,35,45,60]\n",
        "lst3=lst1+lst2\n",
        "print(\"List after merging:\",lst3)\n",
        "l=len(lst3)\n",
        "j=0\n",
        "while j<l-1:\n",
        "  if lst3[j]>lst3[j+1]:\n",
        "    lst3[j],lst3[j+1]=lst3[j+1],lst3[j]\n",
        "    j=-1\n",
        "  j+=1  \n",
        "print(\"List after sorting:\",lst3)"
      ],
      "execution_count": 26,
      "outputs": [
        {
          "output_type": "stream",
          "text": [
            "List after merging: [10, 20, 40, 60, 70, 80, 5, 15, 25, 35, 45, 60]\n",
            "List after sorting: [5, 10, 15, 20, 25, 35, 40, 45, 60, 60, 70, 80]\n"
          ],
          "name": "stdout"
        }
      ]
    }
  ]
}